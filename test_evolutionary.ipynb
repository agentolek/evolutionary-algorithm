{
 "cells": [
  {
   "cell_type": "code",
   "execution_count": 2,
   "metadata": {},
   "outputs": [],
   "source": [
    "import torch\n",
    "import numpy as np\n",
    "from torch import nn\n",
    "from torch.utils.data import DataLoader\n",
    "from dataset import transformed_dataset\n",
    "from model import NeuralNetwork\n",
    "from torch.utils.data import random_split"
   ]
  },
  {
   "cell_type": "code",
   "execution_count": 9,
   "metadata": {},
   "outputs": [
    {
     "name": "stdout",
     "output_type": "stream",
     "text": [
      "tensor([[-0.0425, -0.0565, -0.0500,  ..., -0.0049, -0.1183,  0.1248],\n",
      "        [-0.1072, -0.0970,  0.0019,  ..., -0.0089, -0.0670, -0.0678],\n",
      "        [ 0.0884,  0.1243, -0.1120,  ...,  0.0338, -0.0531,  0.0910],\n",
      "        ...,\n",
      "        [-0.0756, -0.0056,  0.1018,  ..., -0.1038, -0.0848,  0.0284],\n",
      "        [ 0.0129,  0.0755, -0.1192,  ...,  0.0532,  0.1059, -0.1170],\n",
      "        [-0.0333, -0.0985, -0.0264,  ...,  0.0875,  0.1036,  0.0137]])\n"
     ]
    }
   ],
   "source": [
    "model = NeuralNetwork()\n",
    "parameters = [[name, p] for name, p in model.named_parameters()]\n",
    "print(parameters[0][1].data)"
   ]
  },
  {
   "cell_type": "code",
   "execution_count": null,
   "metadata": {},
   "outputs": [],
   "source": [
    "def eval_loop(dataloader, model, loss_fn):\n",
    "    model.eval()\n",
    "    num_batches = len(dataloader)\n",
    "    test_loss = 0\n",
    "\n",
    "    with torch.no_grad():\n",
    "        for X, y in dataloader:\n",
    "            pred = model(X)\n",
    "            test_loss += loss_fn(pred, y).item()\n",
    "\n",
    "    test_loss /= num_batches\n",
    "    return test_loss"
   ]
  },
  {
   "cell_type": "code",
   "execution_count": null,
   "metadata": {},
   "outputs": [],
   "source": [
    "def evaluate_all(param_list):\n",
    "    scores = []\n",
    "    for elem in param_list:\n",
    "        scores.append(evaluate(elem))\n",
    "    return scores"
   ]
  },
  {
   "cell_type": "code",
   "execution_count": null,
   "metadata": {},
   "outputs": [],
   "source": [
    "real_parameters = [p for name, p in parameters]\n",
    "print(real_parameters[0].shape)\n",
    "# 64 x 64\n",
    "\n",
    "thing1 = real_parameters[0][:5].detach().numpy()\n",
    "thing2 = real_parameters[0][5:].detach().numpy()\n",
    "\n",
    "test = np.concatenate((thing1, thing2))\n",
    "test.shape"
   ]
  },
  {
   "cell_type": "code",
   "execution_count": 2,
   "metadata": {},
   "outputs": [
    {
     "data": {
      "text/plain": [
       "[0, 0, 0, 4, 5, 6, 7, 8, 9, 10]"
      ]
     },
     "execution_count": 2,
     "metadata": {},
     "output_type": "execute_result"
    }
   ],
   "source": [
    "tmp = [1, 2, 3, 4, 5, 6, 7, 8, 9, 10]\n",
    "repl = [0, 0, 0]\n",
    "tmp[:3] = repl\n",
    "tmp"
   ]
  }
 ],
 "metadata": {
  "kernelspec": {
   "display_name": ".venv",
   "language": "python",
   "name": "python3"
  },
  "language_info": {
   "codemirror_mode": {
    "name": "ipython",
    "version": 3
   },
   "file_extension": ".py",
   "mimetype": "text/x-python",
   "name": "python",
   "nbconvert_exporter": "python",
   "pygments_lexer": "ipython3",
   "version": "3.10.12"
  }
 },
 "nbformat": 4,
 "nbformat_minor": 2
}
